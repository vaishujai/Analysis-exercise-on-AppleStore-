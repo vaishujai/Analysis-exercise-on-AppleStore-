{
 "cells": [
  {
   "cell_type": "code",
   "execution_count": 21,
   "metadata": {},
   "outputs": [
    {
     "name": "stdout",
     "output_type": "stream",
     "text": [
      "[['id', 'track_name', 'size_bytes', 'currency', 'price', 'rating_count_tot', 'rating_count_ver', 'user_rating', 'user_rating_ver', 'ver', 'cont_rating', 'prime_genre', 'sup_devices.num', 'ipadSc_urls.num', 'lang.num', 'vpp_lic'], ['284882215', 'Facebook', '389879808', 'USD', '0.0', '2974676', '212', '3.5', '3.5', '95.0', '4+', 'Social Networking', '37', '1', '29', '1']]\n"
     ]
    }
   ],
   "source": [
    "opened_file = open('AppleStore.csv',encoding='utf-8' )\n",
    "from csv import reader\n",
    "\n",
    "read_file = reader(opened_file)\n",
    "apps_data = list(read_file)\n",
    "print(apps_data[0:2])\n"
   ]
  },
  {
   "cell_type": "code",
   "execution_count": 31,
   "metadata": {},
   "outputs": [
    {
     "name": "stdout",
     "output_type": "stream",
     "text": [
      "Computing the average ratings of all the apps in the Apple Store\n",
      "\n",
      "Average Rating of the AppleStore Apps: 3.53\n"
     ]
    }
   ],
   "source": [
    "print(\"Computing the average ratings of all the apps in the Apple Store\\n\")\n",
    "average_rating = []\n",
    "for x in apps_data[1:]:\n",
    "    rating = float(x[7])\n",
    "    average_rating.append(rating)\n",
    "    \n",
    "print(\"Average Rating of the AppleStore Apps:\",round((sum(average_rating)/len(average_rating)),2))"
   ]
  },
  {
   "cell_type": "code",
   "execution_count": 33,
   "metadata": {},
   "outputs": [
    {
     "name": "stdout",
     "output_type": "stream",
     "text": [
      "What's the average rating of non-free apps and free apps in the AppleStore\n",
      "\n",
      "Average rating of non-free apps at the Apple Store 3.38\n",
      "Average rating of free apps at the Apple Store 3.72\n"
     ]
    }
   ],
   "source": [
    "print(\"What's the average rating of non-free apps and free apps in the AppleStore\\n\")\n",
    "\n",
    "non_free_avg_rating = []\n",
    "free_avg_rating = []\n",
    "for x in apps_data[1:]:\n",
    "    price = float(x[4])\n",
    "    if price == 0.0:\n",
    "        rating = float(x[7])\n",
    "        non_free_avg_rating.append(rating)\n",
    "    else:\n",
    "        rating = float(x[7])\n",
    "        free_avg_rating.append(rating)\n",
    "        \n",
    "non_free_avg_rating = sum(non_free_avg_rating)/len(non_free_avg_rating)\n",
    "free_avg_rating = sum(free_avg_rating)/len(free_avg_rating)\n",
    "\n",
    "print(\"Average rating of non-free apps at the Apple Store\", round(non_free_avg_rating,2))\n",
    "print(\"Average rating of free apps at the Apple Store\", round(free_avg_rating,2))\n",
    "\n",
    "\n",
    "        "
   ]
  },
  {
   "cell_type": "code",
   "execution_count": null,
   "metadata": {},
   "outputs": [],
   "source": []
  }
 ],
 "metadata": {
  "kernelspec": {
   "display_name": "Python 3",
   "language": "python",
   "name": "python3"
  },
  "language_info": {
   "codemirror_mode": {
    "name": "ipython",
    "version": 3
   },
   "file_extension": ".py",
   "mimetype": "text/x-python",
   "name": "python",
   "nbconvert_exporter": "python",
   "pygments_lexer": "ipython3",
   "version": "3.7.0"
  }
 },
 "nbformat": 4,
 "nbformat_minor": 2
}

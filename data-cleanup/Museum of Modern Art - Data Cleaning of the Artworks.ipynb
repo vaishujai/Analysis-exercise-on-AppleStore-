{
 "cells": [
  {
   "cell_type": "markdown",
   "metadata": {},
   "source": [
    "## Data cleaning project\n",
    "\n",
    "This mini project heavily focuses on the data cleaning aspect! The datasets used can be found [here](https://www.kaggle.com/momanyc/museum-collection). As a data scientist,not all the data we encounter comes in a consistent format.We often need to prepare the data for analyis called **data cleaning** ( This project is a \"Work in Progress\")\n",
    "\n",
    "Description of the dataset:\n",
    "\n",
    "`Title`: The title of the artwork.\n",
    "\n",
    "`Artist`: The name of the artist who created the artwork.\n",
    "\n",
    "`Nationality`: The nationality of the artist.\n",
    "\n",
    "`BeginDate`: The year in which the artist was born.\n",
    "\n",
    "`EndDate`: The year in which the artist died.\n",
    "\n",
    "`Gender`: The gender of the artist.\n",
    "\n",
    "`Date`: The date that the artwork was created.\n",
    "\n",
    "`Department`: The department inside MoMA to which the artwork belongs.\n",
    "\n",
    "Helper Functions:\n",
    "\n",
    "parenthesis () - Removes `(`, `)` from the list\n",
    "\n",
    "frequency_table() - Creates a dictionary with their frequency\n"
   ]
  },
  {
   "cell_type": "code",
   "execution_count": 180,
   "metadata": {},
   "outputs": [],
   "source": [
    "opened_file = open('artworks.csv',encoding='utf8')\n",
    "from csv import reader\n",
    "read_file = reader(opened_file)\n",
    "moma = list(read_file)\n"
   ]
  },
  {
   "cell_type": "code",
   "execution_count": 181,
   "metadata": {},
   "outputs": [
    {
     "name": "stdout",
     "output_type": "stream",
     "text": [
      "Number of records :  16726\n",
      "Header of the dataset ['Title', 'Artist', 'Nationality', 'BeginDate', 'EndDate', 'Gender', 'Date', 'Department'] \n",
      "\n",
      "['Dress MacLeod from Tartan Sets', 'Sarah Charlesworth', '(American)', '(1947)', '(2013)', '(Female)', '1986', 'Prints & Illustrated Books'] \n",
      "\n"
     ]
    }
   ],
   "source": [
    "#Evaluating the number of records available in the dataset\n",
    "print(\"Number of records : \",len(moma))\n",
    "\n",
    "#Undertadning the data\n",
    "print(\"Header of the dataset\", moma[0], \"\\n\")\n",
    "print(moma[1],\"\\n\")"
   ]
  },
  {
   "cell_type": "markdown",
   "metadata": {},
   "source": [
    "Looking at the dataset, we can see that **Nationality** , **BeginDate** , **EndDate** and **Gender** have parenthesis wrapped up! Lets clean the columns which has strings wrapped up in `(` and `)`"
   ]
  },
  {
   "cell_type": "code",
   "execution_count": 182,
   "metadata": {},
   "outputs": [],
   "source": [
    "# Function to remove parenthesis \n",
    "def parenthesis(row_number):\n",
    "    for x in moma[1:]:\n",
    "        row_name = x[row_number]\n",
    "        row_name = row_name.replace(\"(\",\"\")\n",
    "        row_name = row_name.replace(\")\",\"\")\n",
    "        x[row_number] = row_name\n",
    "    "
   ]
  },
  {
   "cell_type": "code",
   "execution_count": 183,
   "metadata": {},
   "outputs": [
    {
     "name": "stdout",
     "output_type": "stream",
     "text": [
      "['Title', 'Artist', 'Nationality', 'BeginDate', 'EndDate', 'Gender', 'Date', 'Department'] \n",
      "\n",
      "['Dress MacLeod from Tartan Sets', 'Sarah Charlesworth', 'American', '1947', '2013', 'Female', '1986', 'Prints & Illustrated Books'] \n",
      "\n",
      "['Duplicate of plate from folio 11 verso (supplementary suite, plate 4) from ARDICIA', 'Pablo Palazuelo', 'Spanish', '1916', '2007', 'Male', '1978', 'Prints & Illustrated Books'] \n",
      "\n",
      "['Tailpiece (page 55) from SAGESSE', 'Maurice Denis', 'French', '1870', '1943', 'Male', '1889-1911', 'Prints & Illustrated Books'] \n",
      "\n",
      "['Headpiece (page 129) from LIVRET DE FOLASTRIES, À JANOT PARISIEN', 'Aristide Maillol', 'French', '1861', '1944', 'Male', '1927-1940', 'Prints & Illustrated Books'] \n",
      "\n"
     ]
    }
   ],
   "source": [
    "nationality = parenthesis(2)\n",
    "b = parenthesis(3)\n",
    "e = parenthesis(4)\n",
    "gender = parenthesis(5)\n",
    "\n",
    "for data in moma[:5]:\n",
    "    print(data, \"\\n\")"
   ]
  },
  {
   "cell_type": "code",
   "execution_count": 184,
   "metadata": {},
   "outputs": [],
   "source": [
    "# Function to create frequency table\n",
    "def frequency_table(row_number):\n",
    "    empty_dict = {}\n",
    "    for x in moma[1:]:\n",
    "        row_name = x[row_number]\n",
    "        if row_name in empty_dict:\n",
    "            empty_dict[row_name] += 1\n",
    "        else:\n",
    "            empty_dict[row_name] = 1\n",
    "    return empty_dict\n",
    "\n"
   ]
  },
  {
   "cell_type": "markdown",
   "metadata": {},
   "source": [
    "Understanding the distribution of gender in the dataset"
   ]
  },
  {
   "cell_type": "code",
   "execution_count": 185,
   "metadata": {},
   "outputs": [
    {
     "name": "stdout",
     "output_type": "stream",
     "text": [
      "{'Female': 2443, 'Male': 13490, '': 791, 'male': 1}\n",
      "{'American': 7444, 'Spanish': 343, 'French': 3042, 'South African': 45, 'Canadian': 113, 'Czech': 115, 'Belgian': 190, 'Russian': 274, 'British': 748, 'German': 1141, '': 491, 'Swiss': 270, 'Polish': 79, 'Japanese': 299, 'Portuguese': 27, 'Austrian': 100, 'Australian': 46, 'Italian': 405, 'Chilean': 77, 'Colombian': 107, 'Mexican': 169, 'Brazilian': 102, 'Dutch': 203, 'Romanian': 10, 'Venezuelan': 57, 'Korean': 17, 'Israeli': 52, 'Argentine': 82, 'Indian': 34, 'Nationality unknown': 56, 'Swedish': 32, 'Yugoslav': 15, 'Cuban': 36, 'Nationality Unknown': 80, 'Various': 70, 'Luxembourgish': 5, 'Croatian': 27, 'Bulgarian': 2, 'Hungarian': 24, 'Georgian': 6, 'Puerto Rican': 1, 'Danish': 67, 'Serbian': 1, 'Pakistani': 5, 'Ecuadorian': 3, 'Chinese': 26, 'Iranian': 4, 'Finnish': 32, 'Lebanese': 1, 'Thai': 5, 'Cambodian': 1, 'Scottish': 16, 'Kenyan': 1, 'Latvian': 5, 'Sudanese': 3, 'Uruguayan': 8, 'Peruvian': 15, 'New Zealander': 3, 'Moroccan': 2, 'Guatemalan': 11, 'Cameroonian': 3, 'Egyptian': 5, 'Nigerian': 2, 'Icelandic': 2, 'Haitian': 4, 'Tajik': 1, 'Irish': 6, 'Norwegian': 13, 'Costa Rican': 8, 'Slovenian': 2, 'Turkish': 5, 'Mozambican': 1, 'Palestinian': 1, 'Ukrainian': 5, 'Angolan': 1, 'Tunisian': 1, 'Greek': 7, 'Zimbabwean': 3, 'Bahamian': 1, 'Vietnamese': 2, 'Panamanian': 2, 'Canadian Inuit': 2, 'Malian': 2, 'Filipino': 1}\n"
     ]
    }
   ],
   "source": [
    "gender_ration = frequency_table(5)\n",
    "print(gender_ration)\n",
    "\n",
    "print(frequency_table(2))"
   ]
  },
  {
   "cell_type": "markdown",
   "metadata": {},
   "source": [
    "We use from the above analysis that there are missing values in Gender and the use of lowercase of `male` making in another type of data. We solve this is error by subsituting the missing values with **Unknown/Other** and converting the string of `male` to title form using `.title()`"
   ]
  },
  {
   "cell_type": "code",
   "execution_count": 186,
   "metadata": {},
   "outputs": [],
   "source": [
    "for row in moma[1:]:\n",
    "    gender = row[5]\n",
    "    gender = gender.title()\n",
    "    if not gender:\n",
    "        gender = \"Gender Unknown/Other\"\n",
    "    row[5] = gender\n",
    "\n",
    "    nationality = row[2]\n",
    "    nationality = nationality.title()\n",
    "    if not nationality:\n",
    "        nationality = \"Nationality Unknown\"\n",
    "    row[2] = nationality\n",
    "    "
   ]
  },
  {
   "cell_type": "code",
   "execution_count": 187,
   "metadata": {},
   "outputs": [
    {
     "name": "stdout",
     "output_type": "stream",
     "text": [
      "{'American': 7444, 'Spanish': 343, 'French': 3042, 'South African': 45, 'Canadian': 113, 'Czech': 115, 'Belgian': 190, 'Russian': 274, 'British': 748, 'German': 1141, 'Nationality Unknown': 627, 'Swiss': 270, 'Polish': 79, 'Japanese': 299, 'Portuguese': 27, 'Austrian': 100, 'Australian': 46, 'Italian': 405, 'Chilean': 77, 'Colombian': 107, 'Mexican': 169, 'Brazilian': 102, 'Dutch': 203, 'Romanian': 10, 'Venezuelan': 57, 'Korean': 17, 'Israeli': 52, 'Argentine': 82, 'Indian': 34, 'Swedish': 32, 'Yugoslav': 15, 'Cuban': 36, 'Various': 70, 'Luxembourgish': 5, 'Croatian': 27, 'Bulgarian': 2, 'Hungarian': 24, 'Georgian': 6, 'Puerto Rican': 1, 'Danish': 67, 'Serbian': 1, 'Pakistani': 5, 'Ecuadorian': 3, 'Chinese': 26, 'Iranian': 4, 'Finnish': 32, 'Lebanese': 1, 'Thai': 5, 'Cambodian': 1, 'Scottish': 16, 'Kenyan': 1, 'Latvian': 5, 'Sudanese': 3, 'Uruguayan': 8, 'Peruvian': 15, 'New Zealander': 3, 'Moroccan': 2, 'Guatemalan': 11, 'Cameroonian': 3, 'Egyptian': 5, 'Nigerian': 2, 'Icelandic': 2, 'Haitian': 4, 'Tajik': 1, 'Irish': 6, 'Norwegian': 13, 'Costa Rican': 8, 'Slovenian': 2, 'Turkish': 5, 'Mozambican': 1, 'Palestinian': 1, 'Ukrainian': 5, 'Angolan': 1, 'Tunisian': 1, 'Greek': 7, 'Zimbabwean': 3, 'Bahamian': 1, 'Vietnamese': 2, 'Panamanian': 2, 'Canadian Inuit': 2, 'Malian': 2, 'Filipino': 1}\n"
     ]
    }
   ],
   "source": [
    "print(frequency_table(2))"
   ]
  },
  {
   "cell_type": "code",
   "execution_count": 188,
   "metadata": {},
   "outputs": [
    {
     "name": "stdout",
     "output_type": "stream",
     "text": [
      "{'Female': 2443, 'Male': 13491, 'Gender Unknown/Other': 791}\n"
     ]
    }
   ],
   "source": [
    "print(frequency_table(5))"
   ]
  },
  {
   "cell_type": "code",
   "execution_count": 189,
   "metadata": {},
   "outputs": [
    {
     "name": "stdout",
     "output_type": "stream",
     "text": [
      "['Dress MacLeod from Tartan Sets', 'Sarah Charlesworth', 'American', '1947', '2013', 'Female', '1986', 'Prints & Illustrated Books']\n"
     ]
    }
   ],
   "source": [
    "print(moma[1])"
   ]
  },
  {
   "cell_type": "code",
   "execution_count": 190,
   "metadata": {},
   "outputs": [],
   "source": [
    "def clean_and_convert(date):\n",
    "    if date != \"\":  \n",
    "        date = int(date)\n",
    "    return date\n",
    "for row in moma[1:]:\n",
    "    birth_date = row[3]\n",
    "    death_date = row[4]\n",
    "    \n",
    "    birth_date = clean_and_convert(birth_date)\n",
    "    death_date = clean_and_convert(death_date)\n",
    "    \n",
    "    row[3] = birth_date\n",
    "    row[4] = death_date"
   ]
  },
  {
   "cell_type": "code",
   "execution_count": 191,
   "metadata": {},
   "outputs": [
    {
     "name": "stdout",
     "output_type": "stream",
     "text": [
      "['Dress MacLeod from Tartan Sets', 'Sarah Charlesworth', 'American', 1947, 2013, 'Female', '1986', 'Prints & Illustrated Books']\n"
     ]
    }
   ],
   "source": [
    "print(moma[1])"
   ]
  },
  {
   "cell_type": "code",
   "execution_count": 197,
   "metadata": {},
   "outputs": [
    {
     "name": "stdout",
     "output_type": "stream",
     "text": [
      "{1986: 113, 1978: 143, 1900: 151, 1934: 198, 1903: 32, 1957: 99, 1924: 206, 1980: 180, 2001: 151, 1941: 83, 1950: 203, 1963: 219, 1910: 97, 1997: 100, 1932: 152, 1972: 240, 1967: 319, 1979: 136, 1926: 203, 1929: 146, 1974: 195, 1925: 178, 1915: 55, 1912: 104, 1989: 107, 1964: 289, 1968: 268, 1969: 196, 1953: 105, 1971: 218, 1988: 138, 1818: 49, 2002: 150, 1914: 84, 1966: 291, 1904: 47, 1949: 219, 1981: 122, 1970: 305, 1928: 211, 1965: 279, 2003: 213, 1983: 124, 1930: 265, 1946: 175, 1984: 188, 2006: 98, 1885: 17, 1942: 135, 1913: 103, 2015: 31, 1987: 109, 1948: 197, 1961: 155, 1962: 241, 1944: 166, 1991: 136, 1992: 145, 2008: 101, 1975: 122, 1893: 42, 1955: 84, 1958: 138, 1922: 209, 1916: 67, 2012: 65, 1865: 14, 1976: 215, 1902: 95, 2010: 63, 1875: 25, 1990: 178, 1921: 104, 2004: 169, 1973: 226, 1982: 159, 1960: 167, 1939: 94, 1952: 133, 2007: 104, 1940: 177, 1995: 122, 1908: 64, 1936: 167, 2005: 139, 1933: 88, 1956: 100, 1920: 153, 1919: 54, 1905: 47, 1918: 77, 1907: 54, 1999: 127, 2011: 54, 1951: 150, 1937: 111, 1927: 118, 2013: 68, 1998: 150, 2000: 127, 2009: 88, 1917: 78, 1861: 5, 1877: 4, 1881: 3, 1954: 101, 1994: 133, 1977: 159, 1947: 110, 1938: 152, 1996: 124, 1943: 75, 1935: 114, 1857: 23, 1931: 174, 1959: 152, 1993: 86, 1985: 93, 1923: 106, 1945: 97, 1909: 40, 1898: 64, 1911: 69, 1899: 41, 1894: 37, 1887: 4, 1873: 22, 1860: 39, 1901: 58, 2014: 31, 1859: 19, 1845: 18, 1864: 14, 1874: 21, 1906: 52, 1897: 13, 1871: 7, 1895: 22, 1888: 13, 2016: 40, 1840: 1, 1868: 7, 1856: 11, 1836: 4, 1852: 2, 1889: 3, 1846: 7, 1896: 17, 1854: 24, 1863: 5, 1855: 3, 1798: 16, 1882: 2, 2017: 16, 1850: 9, 1891: 7, 1869: 9, 1890: 14, 1876: 12, 1892: 8, 1853: 3, 1872: 8, 1862: 2, 1858: 7, 1805: 1, 2018: 1, 1811: 1, 1851: 1, 1826: 3, 1883: 1, 1844: 2, 1884: 3, 1832: 1, 1837: 1, 1870: 3, 1866: 2, 1878: 1, 1880: 4, 1849: 1, 1886: 1}\n"
     ]
    }
   ],
   "source": [
    "print(frequency_table(6))"
   ]
  },
  {
   "cell_type": "markdown",
   "metadata": {},
   "source": [
    "Taking a glance at the 'Date' column, we see it has different types of bad characterts. We create a list of these bad characters and loop through a list in the `moma` dataset to get partial cleaned data for now"
   ]
  },
  {
   "cell_type": "code",
   "execution_count": 194,
   "metadata": {},
   "outputs": [],
   "source": [
    "bad_chars = [\"(\",\")\",\"c\",\"C\",\".\",\"s\",\"'\", \" \"]\n",
    "def strip_characters(string):\n",
    "    for x in bad_chars:\n",
    "        string = string.replace(x,\"\")\n",
    "    return string\n",
    "\n",
    "for x in moma[1:]:\n",
    "    date = x[-2]\n",
    "    date = strip_characters(date)\n",
    "    x[-2] = date\n",
    "    \n"
   ]
  },
  {
   "cell_type": "markdown",
   "metadata": {},
   "source": [
    "We see after cleaning our date column, there are two types of date range \n",
    "    1. The actual date\n",
    "    2. A range of two years\n",
    "    \n",
    "The approach taken for the date range to ensure for futher analysis without removing those rows is to average the data range "
   ]
  },
  {
   "cell_type": "code",
   "execution_count": 196,
   "metadata": {},
   "outputs": [],
   "source": [
    "def process_date(date):\n",
    "    if '-' in date:\n",
    "        date = date.split('-')\n",
    "        date = (int(date[0]) + int(date[1]))/2\n",
    "        date = round(date)\n",
    "    else:\n",
    "        date = int(date)\n",
    "    return date\n",
    "\n",
    "for x in moma[1:]:\n",
    "    date = x[-2]\n",
    "    date = process_date(date)\n",
    "    x[-2] = date\n",
    "    "
   ]
  },
  {
   "cell_type": "code",
   "execution_count": 198,
   "metadata": {},
   "outputs": [
    {
     "name": "stdout",
     "output_type": "stream",
     "text": [
      "['Dress MacLeod from Tartan Sets', 'Sarah Charlesworth', 'American', 1947, 2013, 'Female', 1986, 'Prints & Illustrated Books'] \n",
      "\n",
      "['Duplicate of plate from folio 11 verso (supplementary suite, plate 4) from ARDICIA', 'Pablo Palazuelo', 'Spanish', 1916, 2007, 'Male', 1978, 'Prints & Illustrated Books'] \n",
      "\n",
      "['Tailpiece (page 55) from SAGESSE', 'Maurice Denis', 'French', 1870, 1943, 'Male', 1900, 'Prints & Illustrated Books'] \n",
      "\n",
      "['Headpiece (page 129) from LIVRET DE FOLASTRIES, À JANOT PARISIEN', 'Aristide Maillol', 'French', 1861, 1944, 'Male', 1934, 'Prints & Illustrated Books'] \n",
      "\n",
      "['97 rue du Bac', 'Eugène Atget', 'French', 1857, 1927, 'Male', 1903, 'Photography'] \n",
      "\n",
      "['Pictorial ornament (folio 11) from WOODCUTS', 'Antonio Frasconi', 'American', 1919, 2013, 'Male', 1957, 'Prints & Illustrated Books'] \n",
      "\n",
      "[\"Rue de l'Hôtel-de-Ville\", 'Eugène Atget', 'French', 1857, 1927, 'Male', 1924, 'Photography'] \n",
      "\n",
      "['Los Angeles Airport', 'Garry Winogrand', 'American', 1928, 1984, 'Male', 1980, 'Photography'] \n",
      "\n",
      "['Why Defy from Disasters of Peace', 'Diane Victor', 'South African', 1964, '', 'Female', 2001, 'Prints & Illustrated Books'] \n",
      "\n"
     ]
    }
   ],
   "source": [
    "for x in moma[1:10]:\n",
    "    print(x ,\"\\n\")"
   ]
  },
  {
   "cell_type": "code",
   "execution_count": null,
   "metadata": {},
   "outputs": [],
   "source": []
  }
 ],
 "metadata": {
  "kernelspec": {
   "display_name": "Python 3",
   "language": "python",
   "name": "python3"
  },
  "language_info": {
   "codemirror_mode": {
    "name": "ipython",
    "version": 3
   },
   "file_extension": ".py",
   "mimetype": "text/x-python",
   "name": "python",
   "nbconvert_exporter": "python",
   "pygments_lexer": "ipython3",
   "version": "3.7.0"
  }
 },
 "nbformat": 4,
 "nbformat_minor": 2
}

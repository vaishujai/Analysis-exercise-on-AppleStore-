{
 "cells": [
  {
   "cell_type": "markdown",
   "metadata": {},
   "source": [
    "## Data cleaning project\n",
    "\n",
    "This mini project heavily focuses on the data cleaning aspect! The datasets used can be found [here](https://www.kaggle.com/momanyc/museum-collection) As a data scientist,not all the data we encounter comes in a consistent format.We often need to prepare the data for analyis called **data cleaning**\n"
   ]
  },
  {
   "cell_type": "code",
   "execution_count": 19,
   "metadata": {},
   "outputs": [],
   "source": [
    "opened_file = open('artworks.csv',encoding='utf8')\n",
    "from csv import reader\n",
    "read_file = reader(opened_file)\n",
    "moma = list(read_file)"
   ]
  },
  {
   "cell_type": "code",
   "execution_count": 20,
   "metadata": {},
   "outputs": [
    {
     "name": "stdout",
     "output_type": "stream",
     "text": [
      "Number of records :  16726\n",
      "Header of the dataset ['Title', 'Artist', 'Nationality', 'BeginDate', 'EndDate', 'Gender', 'Date', 'Department'] \n",
      "\n",
      "[['Dress MacLeod from Tartan Sets', 'Sarah Charlesworth', '(American)', '(1947)', '(2013)', '(Female)', '1986', 'Prints & Illustrated Books'], ['Duplicate of plate from folio 11 verso (supplementary suite, plate 4) from ARDICIA', 'Pablo Palazuelo', '(Spanish)', '(1916)', '(2007)', '(Male)', '1978', 'Prints & Illustrated Books']] \n",
      "\n"
     ]
    }
   ],
   "source": [
    "#Evaluating the number of records available in the dataset\n",
    "print(\"Number of records : \",len(moma))\n",
    "\n",
    "#Undertadning the data\n",
    "print(\"Header of the dataset\", moma[0], \"\\n\")\n",
    "print(moma[1:3],\"\\n\")"
   ]
  },
  {
   "cell_type": "markdown",
   "metadata": {},
   "source": [
    "Looking at the dataset, we can see that **Nationality** and **Gender** have parenthesis wrapped up! Lets clean the columns which has strings wrapped up in `(` and `)`"
   ]
  },
  {
   "cell_type": "code",
   "execution_count": 21,
   "metadata": {},
   "outputs": [],
   "source": [
    "def parenthesis(row_number):\n",
    "    for x in moma[1:]:\n",
    "        row_name = x[row_number]\n",
    "        row_name = row_name.replace(\"(\",\"\")\n",
    "        row_name = row_name.replace(\")\",\"\")\n",
    "        x[row_number] = row_name\n",
    "    "
   ]
  },
  {
   "cell_type": "code",
   "execution_count": 22,
   "metadata": {},
   "outputs": [],
   "source": [
    "nationality = parenthesis(2)\n",
    "gender = parenthesis(5)\n",
    "#print(moma[1])"
   ]
  },
  {
   "cell_type": "code",
   "execution_count": 23,
   "metadata": {},
   "outputs": [],
   "source": [
    "def frequency_table(row_number):\n",
    "    empty_dict = {}\n",
    "    for x in moma[1:]:\n",
    "        row_name = x[row_number]\n",
    "        if gender in empty_dict:\n",
    "            empty_dict[row_name] += 1\n",
    "        else:\n",
    "            empty_dict[row_name] = 1\n",
    "    return empty_dict\n",
    "\n"
   ]
  },
  {
   "cell_type": "code",
   "execution_count": 24,
   "metadata": {},
   "outputs": [
    {
     "name": "stdout",
     "output_type": "stream",
     "text": [
      "{'Female': 2443, 'Male': 13490, '': 791, 'male': 1}\n"
     ]
    }
   ],
   "source": [
    "gender_ration = frequency_table(5)\n",
    "print(gender_ration)"
   ]
  }
 ],
 "metadata": {
  "kernelspec": {
   "display_name": "Python 3",
   "language": "python",
   "name": "python3"
  },
  "language_info": {
   "codemirror_mode": {
    "name": "ipython",
    "version": 3
   },
   "file_extension": ".py",
   "mimetype": "text/x-python",
   "name": "python",
   "nbconvert_exporter": "python",
   "pygments_lexer": "ipython3",
   "version": "3.7.0"
  }
 },
 "nbformat": 4,
 "nbformat_minor": 2
}

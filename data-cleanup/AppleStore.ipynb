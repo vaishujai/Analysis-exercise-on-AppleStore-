{
 "cells": [
  {
   "cell_type": "code",
   "execution_count": 1,
   "metadata": {},
   "outputs": [
    {
     "name": "stdout",
     "output_type": "stream",
     "text": [
      "[['id', 'track_name', 'size_bytes', 'currency', 'price', 'rating_count_tot', 'rating_count_ver', 'user_rating', 'user_rating_ver', 'ver', 'cont_rating', 'prime_genre', 'sup_devices.num', 'ipadSc_urls.num', 'lang.num', 'vpp_lic'], ['284882215', 'Facebook', '389879808', 'USD', '0.0', '2974676', '212', '3.5', '3.5', '95.0', '4+', 'Social Networking', '37', '1', '29', '1']]\n"
     ]
    }
   ],
   "source": [
    "opened_file = open('AppleStore.csv',encoding='utf-8' )\n",
    "from csv import reader\n",
    "\n",
    "read_file = reader(opened_file)\n",
    "apps_data = list(read_file)\n",
    "print(apps_data[0:2])\n"
   ]
  },
  {
   "cell_type": "code",
   "execution_count": 2,
   "metadata": {},
   "outputs": [
    {
     "name": "stdout",
     "output_type": "stream",
     "text": [
      "Computing the average ratings of all the apps in the Apple Store\n",
      "\n",
      "Average Rating of the AppleStore Apps: 3.53\n"
     ]
    }
   ],
   "source": [
    "print(\"Computing the average ratings of all the apps in the Apple Store\\n\")\n",
    "average_rating = []\n",
    "for x in apps_data[1:]:\n",
    "    rating = float(x[7])\n",
    "    average_rating.append(rating)\n",
    "    \n",
    "print(\"Average Rating of the AppleStore Apps:\",round((sum(average_rating)/len(average_rating)),2))"
   ]
  },
  {
   "cell_type": "code",
   "execution_count": 3,
   "metadata": {},
   "outputs": [
    {
     "name": "stdout",
     "output_type": "stream",
     "text": [
      "What's the average rating of non-free apps and free apps in the AppleStore\n",
      "\n",
      "Average rating of non-free apps at the Apple Store 3.38\n",
      "Average rating of free apps at the Apple Store 3.72\n"
     ]
    }
   ],
   "source": [
    "print(\"What's the average rating of non-free apps and free apps in the AppleStore\\n\")\n",
    "\n",
    "non_free_avg_rating = []\n",
    "free_avg_rating = []\n",
    "for x in apps_data[1:]:\n",
    "    price = float(x[4])\n",
    "    if price == 0.0:\n",
    "        rating = float(x[7])\n",
    "        non_free_avg_rating.append(rating)\n",
    "    else:\n",
    "        rating = float(x[7])\n",
    "        free_avg_rating.append(rating)\n",
    "        \n",
    "non_free_avg_rating = sum(non_free_avg_rating)/len(non_free_avg_rating)\n",
    "free_avg_rating = sum(free_avg_rating)/len(free_avg_rating)\n",
    "\n",
    "print(\"Average rating of non-free apps at the Apple Store\", round(non_free_avg_rating,2))\n",
    "print(\"Average rating of free apps at the Apple Store\", round(free_avg_rating,2))\n",
    "\n",
    "\n",
    "        "
   ]
  },
  {
   "cell_type": "code",
   "execution_count": 4,
   "metadata": {},
   "outputs": [
    {
     "name": "stdout",
     "output_type": "stream",
     "text": [
      "What's the average rating of gaming apps?\n",
      "What's the average rating of non-gaming apps?\n",
      "\n",
      "Average rating of gaming apps : 3.69\n",
      "Average rating of non-gaming apps : 3.34\n"
     ]
    }
   ],
   "source": [
    "print(\"What's the average rating of gaming apps?\\nWhat's the average rating of non-gaming apps?\\n\")\n",
    "\n",
    "gaming_rating = []\n",
    "non_gaming_rating =[]\n",
    "for x in apps_data[1:]:\n",
    "    genre = x[11]\n",
    "    if genre == 'Games':\n",
    "        rating = float(x[7])\n",
    "        gaming_rating.append(rating)\n",
    "    else:\n",
    "        rating = float(x[7])\n",
    "        non_gaming_rating.append(rating)\n",
    "        \n",
    "avg_gaming_rating = sum(gaming_rating)/len(gaming_rating)\n",
    "non_gaming_rating = sum(non_gaming_rating)/len(non_gaming_rating)\n",
    "\n",
    "print(\"Average rating of gaming apps :\", round(avg_gaming_rating,2))\n",
    "print(\"Average rating of non-gaming apps :\" ,round(non_gaming_rating,2))"
   ]
  },
  {
   "cell_type": "code",
   "execution_count": 5,
   "metadata": {},
   "outputs": [
    {
     "name": "stdout",
     "output_type": "stream",
     "text": [
      "What is the average rating of free gaming apps.\n",
      "Average rating of free gaming apps : 3.53\n"
     ]
    }
   ],
   "source": [
    "print(\"What is the average rating of free gaming apps.\")\n",
    "free_games_ratings = []\n",
    "for row in apps_data[1:]:\n",
    "    rating = float(row[7])\n",
    "    price = float(row[4])\n",
    "    genre = row[11]\n",
    "\n",
    "    if price == 0.0 and genre == 'Games':\n",
    "        free_games_ratings.append(rating)\n",
    "        \n",
    "avg_rating_free_games = sum(free_games_ratings)/len(free_games_ratings)\n",
    "print(\"Average rating of free gaming apps :\", round(avg_rating_free_games,2))\n",
    "\n",
    "    \n"
   ]
  },
  {
   "cell_type": "code",
   "execution_count": 6,
   "metadata": {},
   "outputs": [
    {
     "name": "stdout",
     "output_type": "stream",
     "text": [
      "What is the Average rating of the popular category of Social networking & Games?\n",
      "\n",
      "Average Rating of Popular genre : 3.66\n"
     ]
    }
   ],
   "source": [
    "print(\"What is the Average rating of the popular category of Social networking & Games?\\n\")\n",
    "games_social_ratings = []\n",
    "for row in apps_data[1:]:\n",
    "    rating = float(row[7])\n",
    "    genre = row[11]\n",
    "    if genre == 'Social Networking' or genre == 'Games':\n",
    "        games_social_ratings.append(rating)\n",
    "    \n",
    "avg_games_social = sum(games_social_ratings)/len(games_social_ratings)\n",
    "\n",
    "print(\"Average Rating of Popular genre :\" , round(avg_games_social,2))"
   ]
  },
  {
   "cell_type": "code",
   "execution_count": 7,
   "metadata": {},
   "outputs": [
    {
     "name": "stdout",
     "output_type": "stream",
     "text": [
      "Lets compare the ratio of these two genres with respect to free and non free apps!\n",
      "\n",
      "The Average of free apps wrt to Social Networking and Games : 3.5\n",
      "The Average of non-free apps wrt to Social Networking and Games : 3.89\n"
     ]
    }
   ],
   "source": [
    "print(\"Lets compare the ratio of these two genres with respect to free and non free apps!\\n\")\n",
    "\n",
    "free_games_social_ratings = []\n",
    "nonfree_games_social_ratings = []\n",
    "for row in apps_data[1:]:\n",
    "    rating = float(row[7])\n",
    "    genre = row[11]\n",
    "    price = float(row[4])\n",
    "    \n",
    "    if (genre == 'Social Networking' or genre == 'Games') and price == 0:\n",
    "        free_games_social_ratings.append(rating)\n",
    "    elif (genre == 'Social Networking' or genre == 'Games') and price != 0.0:\n",
    "        nonfree_games_social_ratings.append(rating)\n",
    "        \n",
    "avg_free = sum(free_games_social_ratings) / len(free_games_social_ratings)\n",
    "\n",
    "avg_non_free = sum(nonfree_games_social_ratings)/len(nonfree_games_social_ratings)\n",
    "\n",
    "print(\"The Average of free apps wrt to Social Networking and Games :\" , round(avg_free,2))\n",
    "print(\"The Average of non-free apps wrt to Social Networking and Games :\" , round(avg_non_free,2))"
   ]
  },
  {
   "cell_type": "code",
   "execution_count": 8,
   "metadata": {},
   "outputs": [
    {
     "name": "stdout",
     "output_type": "stream",
     "text": [
      "What is the average rating of the apps that have a price greater than $9?\n",
      "Average Rating : 3.53 \n",
      "\n",
      "How many apps have a price greater than $9?\n",
      "Number of Apps :  178 \n",
      "\n",
      "How many apps have a price smaller than or equal to $9?\n",
      "Number of apps : 7019\n"
     ]
    }
   ],
   "source": [
    "print(\"What is the average rating of the apps that have a price greater than $9?\")\n",
    "\n",
    "avg_rating_more9 = []\n",
    "n_apps_less_9 = []\n",
    "for x in apps_data[1:]:\n",
    "    price = float(x[4])\n",
    "    rating = float(x[7])\n",
    "    if price > 9.0:\n",
    "        avg_rating_more9.append(rating)\n",
    "    elif price <= 9.0:\n",
    "        n_apps_less_9.append(rating)\n",
    "        \n",
    "        \n",
    "avg_rating = sum(avg_rating_more9)/len(avg_rating_more9)\n",
    "print(\"Average Rating :\", round(avg_rating,2),\"\\n\")\n",
    "        \n",
    "\n",
    "print(\"How many apps have a price greater than $9?\")\n",
    "\n",
    "n_apps_more_9 = len(avg_rating_more9)\n",
    "print(\"Number of Apps : \",n_apps_more_9,\"\\n\")\n",
    "\n",
    "print(\"How many apps have a price smaller than or equal to $9?\")\n",
    "print(\"Number of apps :\" , len(n_apps_less_9))"
   ]
  },
  {
   "cell_type": "code",
   "execution_count": 9,
   "metadata": {},
   "outputs": [
    {
     "name": "stdout",
     "output_type": "stream",
     "text": [
      "Appending a new column based on price\n",
      "[['id', 'track_name', 'size_bytes', 'currency', 'price', 'rating_count_tot', 'rating_count_ver', 'user_rating', 'user_rating_ver', 'ver', 'cont_rating', 'prime_genre', 'sup_devices.num', 'ipadSc_urls.num', 'lang.num', 'vpp_lic', 'free_or_not'], ['284882215', 'Facebook', '389879808', 'USD', '0.0', '2974676', '212', '3.5', '3.5', '95.0', '4+', 'Social Networking', '37', '1', '29', '1', 'free'], ['389801252', 'Instagram', '113954816', 'USD', '0.0', '2161558', '1289', '4.5', '4.0', '10.23', '12+', 'Photo & Video', '37', '0', '29', '1', 'free'], ['529479190', 'Clash of Clans', '116476928', 'USD', '0.0', '2130805', '579', '4.5', '4.5', '9.24.12', '9+', 'Games', '38', '5', '18', '1', 'free'], ['420009108', 'Temple Run', '65921024', 'USD', '0.0', '1724546', '3842', '4.5', '4.0', '1.6.2', '9+', 'Games', '40', '5', '1', '1', 'free'], ['284035177', 'Pandora - Music & Radio', '130242560', 'USD', '0.0', '1126879', '3594', '4.0', '4.5', '8.4.1', '12+', 'Music', '37', '4', '1', '1', 'free']]\n"
     ]
    }
   ],
   "source": [
    "print('Appending a new column based on price')\n",
    "\n",
    "#New column price type\n",
    "for app in apps_data[1:]:\n",
    "    price = float(app[4])\n",
    "    if price == 0.0:\n",
    "        app.append('free')\n",
    "        \n",
    "    else:\n",
    "        app.append('non-free')\n",
    "        \n",
    "apps_data[0].append('free_or_not')\n",
    "print(apps_data[:6])\n",
    "\n"
   ]
  },
  {
   "cell_type": "code",
   "execution_count": 10,
   "metadata": {},
   "outputs": [
    {
     "name": "stdout",
     "output_type": "stream",
     "text": [
      "[['id', 'track_name', 'size_bytes', 'currency', 'price', 'rating_count_tot', 'rating_count_ver', 'user_rating', 'user_rating_ver', 'ver', 'cont_rating', 'prime_genre', 'sup_devices.num', 'ipadSc_urls.num', 'lang.num', 'vpp_lic', 'free_or_not', 'price_label'], ['284882215', 'Facebook', '389879808', 'USD', '0.0', '2974676', '212', '3.5', '3.5', '95.0', '4+', 'Social Networking', '37', '1', '29', '1', 'free', 'free']]\n"
     ]
    }
   ],
   "source": [
    "#New column price label\n",
    "for app in apps_data[1:]:\n",
    "    price = float(app[4])\n",
    "    if price == 0.0:\n",
    "        app.append('free')\n",
    "    elif price > 0.0 and price < 20.0:\n",
    "        app.append('affordable')\n",
    "    elif price >= 20 and price < 50:\n",
    "        app.append('expensive')\n",
    "    elif price >= 50:\n",
    "        app.append('very expensive')\n",
    "    else:\n",
    "        app.append(\" \")\n",
    "        \n",
    "apps_data[0].append('price_label')\n",
    "print(apps_data[:2])"
   ]
  },
  {
   "cell_type": "code",
   "execution_count": 14,
   "metadata": {},
   "outputs": [
    {
     "name": "stdout",
     "output_type": "stream",
     "text": [
      "Creating a dictionary to classify the apps based on content rating\n",
      "{'4+': 4433, '12+': 1155, '9+': 987, '17+': 622} \n",
      "\n",
      "Proportion :  {'4+': 0.6159510907322495, '12+': 0.16048353480616923, '9+': 0.13714047519799916, '17+': 0.08642489926358204}\n",
      "Percentage :  {'4+': 61.595109073224954, '12+': 16.04835348061692, '9+': 13.714047519799916, '17+': 8.642489926358204}\n"
     ]
    }
   ],
   "source": [
    "print(\"Creating a dictionary to classify the apps based on content rating\")\n",
    "\n",
    "content_ratings = {}\n",
    "for x in apps_data[1:]:\n",
    "    c_rating = x[10]\n",
    "    if c_rating in content_ratings:\n",
    "        content_ratings[c_rating] += 1\n",
    "    else:\n",
    "        content_ratings[c_rating] = 1\n",
    "                        \n",
    "print(content_ratings,\"\\n\")\n",
    "total_number_of_apps = sum(content_ratings.values())\n",
    "\n",
    "c_ratings_proportions = {}\n",
    "c_ratings_percentages = {}\n",
    "\n",
    "for key in content_ratings:\n",
    "    proportion = content_ratings[key]/total_number_of_apps\n",
    "    percentage = proportion * 100\n",
    "    \n",
    "    c_ratings_proportions[key] = proportion\n",
    "    c_ratings_percentages[key] = percentage\n",
    "   \n",
    "    \n",
    "    \n",
    "    \n",
    "print(\"Proportion : \", c_ratings_proportions)\n",
    "print(\"Percentage : \" ,c_ratings_percentages)\n",
    "\n",
    "        \n",
    "\n",
    "    "
   ]
  },
  {
   "cell_type": "code",
   "execution_count": 21,
   "metadata": {},
   "outputs": [
    {
     "name": "stdout",
     "output_type": "stream",
     "text": [
      "Frequency table for user_rating : {'0 - 10000': 6181, '10000 - 100000': 798, '100000 - 500000': 196, '500000 - 1000000': 16, '1000000+': 6}\n"
     ]
    }
   ],
   "source": [
    "n_user_ratings = []\n",
    "for row in apps_data[1:]:\n",
    "    n_user_ratings.append(int(row[5]))\n",
    "    \n",
    "ratings_max = max(n_user_ratings)\n",
    "ratings_min = min(n_user_ratings)\n",
    "\n",
    "user_ratings_freq = {'0 - 10000': 0, '10000 - 100000': 0, '100000 - 500000': 0,\n",
    "                    '500000 - 1000000': 0, '1000000+': 0}\n",
    "\n",
    "for row in apps_data[1:]:\n",
    "    user_ratings = int(row[5])\n",
    "    \n",
    "    if user_ratings <= 10000:\n",
    "        user_ratings_freq['0 - 10000'] += 1\n",
    "        \n",
    "    elif 10000 < user_ratings <= 100000:\n",
    "        user_ratings_freq['10000 - 100000'] += 1\n",
    "        \n",
    "    elif 100000 < user_ratings <= 500000:\n",
    "        user_ratings_freq['100000 - 500000'] += 1\n",
    "        \n",
    "    elif 500000 < user_ratings <= 1000000:\n",
    "        user_ratings_freq['500000 - 1000000'] += 1\n",
    "        \n",
    "    elif user_ratings > 1000000:\n",
    "        user_ratings_freq['1000000+'] += 1\n",
    "\n",
    "\n",
    "print(\"Frequency table for user_rating :\",user_ratings_freq)\n",
    "\n",
    "\n",
    "\n"
   ]
  },
  {
   "cell_type": "code",
   "execution_count": 24,
   "metadata": {},
   "outputs": [
    {
     "name": "stdout",
     "output_type": "stream",
     "text": [
      "Enter the column name : 11\n",
      "{'Social Networking': 167, 'Photo & Video': 349, 'Games': 3862, 'Music': 138, 'Reference': 64, 'Health & Fitness': 180, 'Weather': 72, 'Utilities': 248, 'Travel': 81, 'Shopping': 122, 'News': 75, 'Navigation': 46, 'Lifestyle': 144, 'Entertainment': 535, 'Food & Drink': 63, 'Sports': 114, 'Book': 112, 'Finance': 104, 'Education': 453, 'Productivity': 178, 'Business': 57, 'Catalogs': 10, 'Medical': 23}\n"
     ]
    }
   ],
   "source": [
    "#Function to extract any column in the dataset and creating frequency table\n",
    "\n",
    "def extract(a):\n",
    "    empty_list = []\n",
    "    for x in apps_data[1:]:\n",
    "        empty_list.append(x[a])\n",
    "    return empty_list\n",
    "\n",
    "column_name = input(\"Enter the column name : \")\n",
    "columns = extract(int(column_name))\n",
    "\n",
    "#print(column)\n",
    "\n",
    "def freq_table(column):\n",
    "    empty_dict = {}\n",
    "    for x in column:\n",
    "        if x in empty_dict:\n",
    "            empty_dict[x] += 1\n",
    "        else:\n",
    "            empty_dict[x] = 1\n",
    "            \n",
    "    return empty_dict\n",
    "\n",
    "frequency_table = freq_table(columns)\n",
    "print(frequency_table)\n",
    "        "
   ]
  },
  {
   "cell_type": "code",
   "execution_count": 28,
   "metadata": {},
   "outputs": [
    {
     "name": "stdout",
     "output_type": "stream",
     "text": [
      "Enter the column name to create the frequency table :11\n",
      "{'Social Networking': 167, 'Photo & Video': 349, 'Games': 3862, 'Music': 138, 'Reference': 64, 'Health & Fitness': 180, 'Weather': 72, 'Utilities': 248, 'Travel': 81, 'Shopping': 122, 'News': 75, 'Navigation': 46, 'Lifestyle': 144, 'Entertainment': 535, 'Food & Drink': 63, 'Sports': 114, 'Book': 112, 'Finance': 104, 'Education': 453, 'Productivity': 178, 'Business': 57, 'Catalogs': 10, 'Medical': 23}\n"
     ]
    }
   ],
   "source": [
    "#Combing the two functions above to create one function\n",
    "\n",
    "def freq_table(a):\n",
    "    empty_dict = {}\n",
    "    for x in apps_data[1:]:\n",
    "        column = x[a]\n",
    "        if column in empty_dict:\n",
    "            empty_dict[column] += 1\n",
    "        else:\n",
    "            empty_dict[column] = 1\n",
    "            \n",
    "    return empty_dict\n",
    "\n",
    "column = int(input(\"Enter the column name to create the frequency table :\"))\n",
    "ratings_ft = freq_table(column)\n",
    "print(ratings_ft)"
   ]
  },
  {
   "cell_type": "code",
   "execution_count": null,
   "metadata": {},
   "outputs": [],
   "source": []
  }
 ],
 "metadata": {
  "kernelspec": {
   "display_name": "Python 3",
   "language": "python",
   "name": "python3"
  },
  "language_info": {
   "codemirror_mode": {
    "name": "ipython",
    "version": 3
   },
   "file_extension": ".py",
   "mimetype": "text/x-python",
   "name": "python",
   "nbconvert_exporter": "python",
   "pygments_lexer": "ipython3",
   "version": "3.7.0"
  }
 },
 "nbformat": 4,
 "nbformat_minor": 2
}

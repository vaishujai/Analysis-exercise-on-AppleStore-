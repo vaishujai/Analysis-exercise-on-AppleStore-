{
 "cells": [
  {
   "cell_type": "markdown",
   "metadata": {},
   "source": [
    "The dataset for this assignment can be found [here](https://www1.nyc.gov/site/tlc/about/tlc-trip-record-data.page)<br>\n",
    "Data Description <br/>\n",
    "<br>`pickup_year`: The year of the trip.<br/>\n",
    "<br>`pickup_month`: The month of the trip (January is 1, December is 12).<br/>\n",
    "<br>`pickup_day`: The day of the month of the trip.<br/>\n",
    "<br>`pickup_location_code`: The airport or borough where the trip started.<br/>\n",
    "<br>`dropoff_location_code`: The airport or borough where the trip finished.<br/>\n",
    "<br>`trip_distance`: The distance of the trip in miles.<br/>\n",
    "<br>`trip_length`: The length of the trip in seconds.<br/>\n",
    "<br>`fare_amount`: The base fare of the trip, in dollars.<br/>\n",
    "<br>`total_amount`: The total amount charged to the passenger, including all fees, tolls and tips.<br/>"
   ]
  },
  {
   "cell_type": "code",
   "execution_count": 27,
   "metadata": {},
   "outputs": [
    {
     "name": "stdout",
     "output_type": "stream",
     "text": [
      "['pickup_year', 'pickup_month', 'pickup_day', 'pickup_dayofweek', 'pickup_time', 'pickup_location_code', 'dropoff_location_code', 'trip_distance', 'trip_length', 'fare_amount', 'fees_amount', 'tolls_amount', 'tip_amount', 'total_amount', 'payment_type']\n"
     ]
    }
   ],
   "source": [
    "import csv\n",
    "import numpy as np\n",
    "# import nyc_taxi.csv as a list of lists\n",
    "f = open(\"nyc_taxis.csv\", \"r\")\n",
    "taxi_list = list(csv.reader(f))\n",
    "\n",
    "#Header Column\n",
    "header = taxi_list[0]\n",
    "print(header)\n",
    "#No Header column\n",
    "taxi_list = taxi_list[1:]\n",
    "\n",
    "\n",
    "# convert all values to floats\n",
    "converted_taxi_list = []\n",
    "for row in taxi_list:\n",
    "    converted_row = []\n",
    "    for item in row:\n",
    "        converted_row.append(float(item))\n",
    "    converted_taxi_list.append(converted_row)\n",
    "\n",
    "\n",
    "taxi = np.array(converted_taxi_list)"
   ]
  },
  {
   "cell_type": "code",
   "execution_count": 12,
   "metadata": {},
   "outputs": [
    {
     "name": "stdout",
     "output_type": "stream",
     "text": [
      "[[2.016e+03 1.000e+00 1.000e+00 ... 1.165e+01 6.999e+01 1.000e+00]\n",
      " [2.016e+03 1.000e+00 1.000e+00 ... 8.000e+00 5.430e+01 1.000e+00]\n",
      " [2.016e+03 1.000e+00 1.000e+00 ... 0.000e+00 3.780e+01 2.000e+00]\n",
      " ...\n",
      " [2.016e+03 6.000e+00 3.000e+01 ... 5.000e+00 6.334e+01 1.000e+00]\n",
      " [2.016e+03 6.000e+00 3.000e+01 ... 8.950e+00 4.475e+01 1.000e+00]\n",
      " [2.016e+03 6.000e+00 3.000e+01 ... 0.000e+00 5.484e+01 2.000e+00]]\n"
     ]
    }
   ],
   "source": [
    "print(taxi)"
   ]
  },
  {
   "cell_type": "code",
   "execution_count": 13,
   "metadata": {},
   "outputs": [
    {
     "name": "stdout",
     "output_type": "stream",
     "text": [
      "Taxi shape : (89560, 15)\n"
     ]
    }
   ],
   "source": [
    "#Volume of the data records\n",
    "print(\"Taxi shape :\",taxi.shape)"
   ]
  },
  {
   "cell_type": "code",
   "execution_count": 14,
   "metadata": {},
   "outputs": [
    {
     "name": "stdout",
     "output_type": "stream",
     "text": [
      "[52.8 46.3 37.8 ... 52.8 35.8 49.3]\n"
     ]
    }
   ],
   "source": [
    "# Fare & Fees amound\n",
    "fare_amount = taxi[:,9]\n",
    "fees_amount = taxi[:,10]\n",
    "fare_and_fees = fare_amount + fees_amount\n",
    "\n",
    "print(fare_and_fees)"
   ]
  },
  {
   "cell_type": "code",
   "execution_count": 32,
   "metadata": {},
   "outputs": [
    {
     "name": "stdout",
     "output_type": "stream",
     "text": [
      "[37.11340206 38.58157895 31.27222982 ... 22.29907867 42.41551247\n",
      " 36.90473407]\n"
     ]
    }
   ],
   "source": [
    "trip_distance_miles = taxi[:,7]\n",
    "trip_length_seconds = taxi[:,8]\n",
    "\n",
    "trip_length_hours = trip_length_seconds / 3600 # 3600 seconds is one hour\n",
    "\n",
    "trip_mph = trip_distance_miles/trip_length_hours\n",
    "print(trip_mph)"
   ]
  },
  {
   "cell_type": "code",
   "execution_count": 16,
   "metadata": {},
   "outputs": [
    {
     "name": "stdout",
     "output_type": "stream",
     "text": [
      "0.0\n",
      "82800.0\n",
      "32.24258580925573\n"
     ]
    }
   ],
   "source": [
    "mph_min = trip_mph.min()\n",
    "print(mph_min)\n",
    "mph_max = trip_mph.max()\n",
    "print(mph_max)\n",
    "mph_mean = trip_mph.mean()\n",
    "print(mph_mean)"
   ]
  },
  {
   "cell_type": "code",
   "execution_count": 17,
   "metadata": {},
   "outputs": [
    {
     "name": "stdout",
     "output_type": "stream",
     "text": [
      "[69.99 54.3  37.8  32.76 18.8 ]\n",
      "[69.99 54.3  37.8  32.76 18.8 ]\n"
     ]
    }
   ],
   "source": [
    "# we'll compare against the first 5 rows only\n",
    "taxi_first_five = taxi[:5]\n",
    "# select these columns: fare_amount, fees_amount, tolls_amount, tip_amount\n",
    "fare_components = taxi_first_five[:,9:13]\n",
    "fare_sums = fare_components.sum(axis = 1)\n",
    "fare_totals = taxi_first_five[:,13]\n",
    "print(fare_sums)\n",
    "print(fare_totals)"
   ]
  },
  {
   "cell_type": "markdown",
   "metadata": {},
   "source": [
    "NumPy Way"
   ]
  },
  {
   "cell_type": "code",
   "execution_count": 24,
   "metadata": {},
   "outputs": [
    {
     "data": {
      "text/plain": [
       "(89560, 15)"
      ]
     },
     "execution_count": 24,
     "metadata": {},
     "output_type": "execute_result"
    }
   ],
   "source": [
    "import numpy as np\n",
    "taxi_np = np.genfromtxt('nyc_taxis.csv', delimiter = ',', skip_header=1)\n",
    "taxi_np.shape"
   ]
  },
  {
   "cell_type": "code",
   "execution_count": 25,
   "metadata": {},
   "outputs": [
    {
     "name": "stdout",
     "output_type": "stream",
     "text": [
      "float64\n"
     ]
    }
   ],
   "source": [
    "print(taxi.dtype)"
   ]
  },
  {
   "cell_type": "markdown",
   "metadata": {},
   "source": [
    "From the first method of using Python Function and Concepts we had to write more lines of code to get the taxi dataset into all **float type** but using Numpy module we were able to do the same idelogy in few lines of code. Even though we didnt convert directly all rows into float type, numpy converts everything internally as numpy ndarrays can contain only one datatype\n",
    "\n",
    "We didn't have to complete this step because when `numpy.genfromtxt()` reads in a file, it attempts to determine the data type of the file by looking at the values."
   ]
  },
  {
   "cell_type": "code",
   "execution_count": 31,
   "metadata": {},
   "outputs": [
    {
     "name": "stdout",
     "output_type": "stream",
     "text": [
      "<class 'numpy.ndarray'>\n",
      "13481\n",
      "13333\n"
     ]
    }
   ],
   "source": [
    "#Calculate the number of rides in Jan and Feb\n",
    "pickup_month = taxi_np[:,1]\n",
    "jan_bool = pickup_month  == 1\n",
    "print(type(jan_bool))\n",
    "jan = pickup_month[jan_bool]\n",
    "jan_ride  = jan.shape[0]\n",
    "print(jan_ride)\n",
    "\n",
    "feb_bool = pickup_month == 2\n",
    "feb = pickup_month[feb_bool]\n",
    "feb_ride = feb.shape[0]\n",
    "print(feb_ride)"
   ]
  },
  {
   "cell_type": "code",
   "execution_count": 33,
   "metadata": {},
   "outputs": [
    {
     "name": "stdout",
     "output_type": "stream",
     "text": [
      "82800.0\n"
     ]
    }
   ],
   "source": [
    "#Calcutation the Taxi_mph for the second time for analysis\n",
    "\n",
    "trip_mph = taxi[:,7]/ (taxi[:,8]/ 3600)\n",
    "\n",
    "print(trip_mph.max())"
   ]
  },
  {
   "cell_type": "markdown",
   "metadata": {},
   "source": [
    "We see that a trip of 82800 mph is impossible therefore we investigate the distance and time taken for this records to figure out a pattern. Using the concept of Boolean Indexing we filter out the records which have greater than 20,000mph "
   ]
  },
  {
   "cell_type": "code",
   "execution_count": 36,
   "metadata": {},
   "outputs": [
    {
     "name": "stdout",
     "output_type": "stream",
     "text": [
      "['pickup_location_code', 'dropoff_location_code', 'trip_distance', 'trip_length'] \n",
      "\n",
      "[[ 2.   2.  23.   1. ]\n",
      " [ 2.   2.  19.6  1. ]\n",
      " [ 2.   2.  16.7  2. ]\n",
      " [ 3.   3.  17.8  2. ]\n",
      " [ 2.   2.  17.2  2. ]\n",
      " [ 3.   3.  16.9  3. ]\n",
      " [ 2.   2.  27.1  4. ]]\n"
     ]
    }
   ],
   "source": [
    "trip_mph_bool = trip_mph > 20000\n",
    "\n",
    "result = taxi[trip_mph_bool, 5:9]\n",
    "print(header[5:9] ,\"\\n\")\n",
    "print(result)"
   ]
  },
  {
   "cell_type": "markdown",
   "metadata": {},
   "source": [
    "From the above filtering technique, we see most of these data have a distnace greater than 16miles but seconds less than 5 which is impossible for a trip"
   ]
  },
  {
   "cell_type": "code",
   "execution_count": 41,
   "metadata": {},
   "outputs": [
    {
     "name": "stdout",
     "output_type": "stream",
     "text": [
      "['pickup_location_code', 'dropoff_location_code', 'trip_distance', 'trip_length', 'fare_amount', 'fees_amount', 'tolls_amount', 'tip_amount', 'total_amount']\n",
      "[[4.0000e+00 2.0000e+00 2.1450e+01 2.0040e+03 5.2000e+01 8.0000e-01\n",
      "  0.0000e+00 5.2800e+01 1.0560e+02]\n",
      " [3.0000e+00 4.0000e+00 9.2000e+00 1.0410e+03 2.7000e+01 1.3000e+00\n",
      "  5.5400e+00 6.0000e+01 9.3840e+01]\n",
      " [2.0000e+00 0.0000e+00 1.9800e+01 1.6710e+03 5.2500e+01 1.3000e+00\n",
      "  5.5400e+00 5.9340e+01 1.1868e+02]\n",
      " [4.0000e+00 2.0000e+00 1.8420e+01 2.9680e+03 5.2000e+01 8.0000e-01\n",
      "  5.5400e+00 8.0000e+01 1.3834e+02]\n",
      " [3.0000e+00 6.0000e+00 4.9000e-01 1.5800e+02 3.5000e+00 1.8000e+00\n",
      "  0.0000e+00 7.0000e+01 7.5300e+01]\n",
      " [2.0000e+00 2.0000e+00 2.7000e+00 3.8100e+02 9.5000e+00 8.0000e-01\n",
      "  0.0000e+00 6.0000e+01 7.0300e+01]\n",
      " [3.0000e+00 4.0000e+00 9.5400e+00 1.2100e+03 2.7500e+01 8.0000e-01\n",
      "  5.5400e+00 5.5000e+01 8.8840e+01]\n",
      " [2.0000e+00 4.0000e+00 1.7600e+01 3.2510e+03 5.2000e+01 8.0000e-01\n",
      "  5.5400e+00 6.5000e+01 1.2334e+02]\n",
      " [4.0000e+00 2.0000e+00 3.8200e+01 9.2520e+03 5.2000e+01 8.0000e-01\n",
      "  5.5400e+00 8.0000e+01 1.3834e+02]\n",
      " [4.0000e+00 2.0000e+00 1.8000e+01 2.2760e+03 1.0000e-02 3.0000e-01\n",
      "  5.5400e+00 6.2000e+01 6.7850e+01]\n",
      " [2.0000e+00 0.0000e+00 2.6210e+01 1.7029e+04 1.8050e+02 8.0000e-01\n",
      "  5.5400e+00 1.0000e+02 2.8684e+02]\n",
      " [2.0000e+00 2.0000e+00 0.0000e+00 2.4000e+01 2.5000e+00 8.0000e-01\n",
      "  0.0000e+00 5.8000e+01 6.1300e+01]\n",
      " [2.0000e+00 1.0000e+00 1.8210e+01 3.1600e+03 5.5500e+01 8.0000e-01\n",
      "  0.0000e+00 6.2000e+01 1.1830e+02]\n",
      " [2.0000e+00 2.0000e+00 0.0000e+00 3.0000e+00 2.5000e+00 1.8000e+00\n",
      "  0.0000e+00 7.5700e+01 8.0000e+01]\n",
      " [2.0000e+00 4.0000e+00 1.8680e+01 5.2470e+03 5.2000e+01 8.0000e-01\n",
      "  5.5400e+00 6.0000e+01 1.1834e+02]\n",
      " [4.0000e+00 2.0000e+00 1.8170e+01 5.8600e+03 5.2000e+01 8.0000e-01\n",
      "  5.5400e+00 7.0000e+01 1.2834e+02]]\n"
     ]
    }
   ],
   "source": [
    "tip_amount = taxi[:,12]\n",
    "\n",
    "tip_bool = tip_amount > 50\n",
    "top_tips = taxi[tip_bool,5:14]\n",
    "\n",
    "print(header[5:14])\n",
    "print(top_tips)"
   ]
  },
  {
   "cell_type": "code",
   "execution_count": 43,
   "metadata": {},
   "outputs": [
    {
     "name": "stdout",
     "output_type": "stream",
     "text": [
      "[[0.]\n",
      " [0.]\n",
      " [0.]\n",
      " ...\n",
      " [0.]\n",
      " [0.]\n",
      " [0.]]\n",
      "[[2.016e+03 1.000e+00 1.000e+00 ... 6.999e+01 1.000e+00 0.000e+00]\n",
      " [2.016e+03 1.000e+00 1.000e+00 ... 5.430e+01 1.000e+00 0.000e+00]\n",
      " [2.016e+03 1.000e+00 1.000e+00 ... 3.780e+01 2.000e+00 0.000e+00]\n",
      " ...\n",
      " [2.016e+03 6.000e+00 3.000e+01 ... 6.334e+01 1.000e+00 0.000e+00]\n",
      " [2.016e+03 6.000e+00 3.000e+01 ... 4.475e+01 1.000e+00 0.000e+00]\n",
      " [2.016e+03 6.000e+00 3.000e+01 ... 5.484e+01 2.000e+00 0.000e+00]]\n"
     ]
    }
   ],
   "source": [
    "zeros = np.zeros([taxi_np.shape[0], 1])\n",
    "print(zeros)\n",
    "taxi_modified = np.concatenate([taxi_np, zeros], axis=1)\n",
    "print(taxi_modified)"
   ]
  },
  {
   "cell_type": "code",
   "execution_count": 46,
   "metadata": {},
   "outputs": [],
   "source": [
    "taxi_modified[taxi_modified[:, 5] == 2, 15] = 1 #JFK\n",
    "taxi_modified[taxi_modified[:, 5] == 3, 15] = 1 #LGA\n",
    "taxi_modified[taxi_modified[:, 5] == 5, 15] = 1 #EWR"
   ]
  },
  {
   "cell_type": "code",
   "execution_count": 47,
   "metadata": {},
   "outputs": [],
   "source": [
    "jfk = taxi[taxi[:,6] == 2,6]\n",
    "jfk_count = jfk.shape[0]\n",
    "\n",
    "laguardia = taxi[taxi[:,6] == 3, 6]\n",
    "laguardia_count = laguardia.shape[0]\n",
    "\n",
    "newark = taxi[taxi[:,6]==5 ,6]\n",
    "newark_count = newark.shape[0]"
   ]
  },
  {
   "cell_type": "code",
   "execution_count": 48,
   "metadata": {},
   "outputs": [],
   "source": [
    "#Removing bad data and calculating stastistics of the cleaned data\n",
    "trip_mph = taxi[:,7] / (taxi[:,8] / 3600)\n",
    "\n",
    "cleaned_taxi = taxi[trip_mph < 100]\n",
    "\n",
    "mean_distance = cleaned_taxi[:,7].mean()\n",
    "mean_length = cleaned_taxi[:,8].mean()\n",
    "mean_total_amount = cleaned_taxi[:,13].mean()"
   ]
  },
  {
   "cell_type": "code",
   "execution_count": 53,
   "metadata": {},
   "outputs": [
    {
     "name": "stdout",
     "output_type": "stream",
     "text": [
      "Average Distance : 12.666396599932893 \n",
      " Average Length in seconds : 2239.503657309026 \n",
      " Average Total Amount : 48.98131853260262\n"
     ]
    }
   ],
   "source": [
    "print(\"Average Distance :\",mean_distance,\"\\n\",\"Average Length in seconds :\",mean_length,\"\\n\",\"Average Total Amount :\",mean_total_amount)"
   ]
  },
  {
   "cell_type": "code",
   "execution_count": null,
   "metadata": {},
   "outputs": [],
   "source": []
  }
 ],
 "metadata": {
  "kernelspec": {
   "display_name": "Python 3",
   "language": "python",
   "name": "python3"
  },
  "language_info": {
   "codemirror_mode": {
    "name": "ipython",
    "version": 3
   },
   "file_extension": ".py",
   "mimetype": "text/x-python",
   "name": "python",
   "nbconvert_exporter": "python",
   "pygments_lexer": "ipython3",
   "version": "3.7.0"
  }
 },
 "nbformat": 4,
 "nbformat_minor": 2
}
